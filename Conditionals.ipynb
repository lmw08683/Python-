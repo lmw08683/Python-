{
 "cells": [
  {
   "cell_type": "code",
   "execution_count": 2,
   "id": "cf422e66-2f57-4471-8a98-4e3126bb8b05",
   "metadata": {},
   "outputs": [],
   "source": [
    "# Task 1: Basic if Statement\n",
    "def check_positive(number):\n",
    "    if number > 0:\n",
    "        print(\"The number is positive\")"
   ]
  },
  {
   "cell_type": "code",
   "execution_count": 7,
   "id": "abd39373-25e0-462d-b346-d6f0d4d146f8",
   "metadata": {},
   "outputs": [
    {
     "name": "stdout",
     "output_type": "stream",
     "text": [
      "The number is positive\n"
     ]
    }
   ],
   "source": [
    "check_positive(5)"
   ]
  },
  {
   "cell_type": "code",
   "execution_count": 3,
   "id": "9cc58d72-d742-451d-91eb-4a5d1700ce50",
   "metadata": {},
   "outputs": [],
   "source": [
    "# Task 2:  if-else Statement\n",
    "def check_pass_fail(score):\n",
    "    print(\"Pass if score >= 60 else Fail\")"
   ]
  },
  {
   "cell_type": "code",
   "execution_count": 6,
   "id": "9a906901-bf7b-486e-992c-8169d04d485c",
   "metadata": {},
   "outputs": [
    {
     "name": "stdout",
     "output_type": "stream",
     "text": [
      "Pass if score >= 60 else Fail\n"
     ]
    }
   ],
   "source": [
    "check_pass_fail(50)"
   ]
  },
  {
   "cell_type": "code",
   "execution_count": 8,
   "id": "b15a3d1f-77f9-468e-804d-5998c3dbd07a",
   "metadata": {},
   "outputs": [],
   "source": [
    "# Task 3:  if-elif-else Statement\n",
    "def convert_to_letter_grade(score):\n",
    "    if score >= 90:\n",
    "        return \"A\"\n",
    "    elif score >= 80:\n",
    "        return \"B\"\n",
    "    elif score >= 70:\n",
    "        return \"C\"\n",
    "    elif score >= 60:\n",
    "        return \"D\"\n",
    "    else: \n",
    "        return \"F\""
   ]
  },
  {
   "cell_type": "code",
   "execution_count": 9,
   "id": "0361e1e7-5820-494b-af21-c4fc339cfe98",
   "metadata": {},
   "outputs": [
    {
     "data": {
      "text/plain": [
       "'C'"
      ]
     },
     "execution_count": 9,
     "metadata": {},
     "output_type": "execute_result"
    }
   ],
   "source": [
    "convert_to_letter_grade(75)"
   ]
  },
  {
   "cell_type": "code",
   "execution_count": 14,
   "id": "cc9c23d1-f88e-431a-9159-89ee6a61408f",
   "metadata": {},
   "outputs": [],
   "source": [
    "# Task 4 Nested Conditionals\n",
    "def check_access(is_logged_in, is_admin, is_premium):\n",
    "    if not is_logged_in:\n",
    "        print(\"Please log in to access the site\")\n",
    "    elif is_admin:\n",
    "        print(\"Welcome admin! Full access granted\")\n",
    "    elif is_premium: \n",
    "        print(\"Welcome premuim user! Premium content access granted\")\n",
    "    else:\n",
    "        print(\"Welcome! Basic access granted\")\n",
    "   "
   ]
  },
  {
   "cell_type": "code",
   "execution_count": 15,
   "id": "a416a6d0-1eb5-441e-a4f3-0ae2c724f63b",
   "metadata": {},
   "outputs": [
    {
     "name": "stdout",
     "output_type": "stream",
     "text": [
      "Please log in to access the site\n",
      "Welcome admin! Full access granted\n",
      "Welcome premuim user! Premium content access granted\n",
      "Welcome! Basic access granted\n"
     ]
    }
   ],
   "source": [
    "check_access(False, False, False) # Not logged in \n",
    "check_access(True, True, False) # Admin\n",
    "check_access(True, False, True) # Premium \n",
    "check_access(True, False, False) # Basic"
   ]
  },
  {
   "cell_type": "code",
   "execution_count": 16,
   "id": "e2000690-6a09-47f9-bbbb-ebd464ceb7c1",
   "metadata": {},
   "outputs": [],
   "source": [
    "# Task 5: Ternary Operator \n",
    "def check_even_odd(number):\n",
    "    return \"Even\" if number % 2 == 0 else \"Odd\""
   ]
  },
  {
   "cell_type": "code",
   "execution_count": 17,
   "id": "68b0dd9e-bce7-434c-9330-dcef9af5a619",
   "metadata": {},
   "outputs": [
    {
     "name": "stdout",
     "output_type": "stream",
     "text": [
      "Even\n",
      "Odd\n",
      "Even\n"
     ]
    }
   ],
   "source": [
    "print(check_even_odd(4)) # Even\n",
    "print(check_even_odd(7)) # Odd\n",
    "print(check_even_odd(0)) # Even"
   ]
  },
  {
   "cell_type": "code",
   "execution_count": 18,
   "id": "fa50a3f5-a858-439e-9762-ef7afd8cc43d",
   "metadata": {},
   "outputs": [],
   "source": [
    "# Task 6: Combining Conditions\n",
    "def is_leap_year(year):\n",
    "    return (year % 4 == 0 and year % 100 != 0) or (year % 400 == 0) "
   ]
  },
  {
   "cell_type": "code",
   "execution_count": 19,
   "id": "a8df441a-b775-4f17-8a1a-7fbdb82a1112",
   "metadata": {},
   "outputs": [
    {
     "name": "stdout",
     "output_type": "stream",
     "text": [
      "True\n",
      "False\n",
      "True\n",
      "False\n"
     ]
    }
   ],
   "source": [
    "print(is_leap_year(2020)) #True (divisible by 4, not by 100)\n",
    "print(is_leap_year(1900)) #False (divisible by 100, not by 400)\n",
    "print(is_leap_year(2000)) #True (divisible by 400)\n",
    "print(is_leap_year(2023)) #False (not divisible by 4)"
   ]
  },
  {
   "cell_type": "code",
   "execution_count": 24,
   "id": "2b3e4d70-0ca0-476c-a647-46696ea74003",
   "metadata": {},
   "outputs": [],
   "source": [
    "# Task 7: Best Practices (Refactored)\n",
    "def improved_classify_item(item_type, price, in_stock):\n",
    "    # Define classification based on item type and price\n",
    "    if item_type == \"electronics\":\n",
    "        if price < 100:\n",
    "            classification = \"Affordable electronics\"\n",
    "        else:\n",
    "            classification = \"Premium electronics\"\n",
    "    else:\n",
    "        if price < 100:\n",
    "            classification = \"Affordable non-electronics\"\n",
    "        else:\n",
    "            classification = \"Premium non-electronics\"\n",
    "    \n",
    "    # Add stock information\n",
    "    if in_stock:\n",
    "        classification += \" in stock\"\n",
    "    else:\n",
    "        classification += \" out of stock\"\n",
    "    \n",
    "    return classification"
   ]
  },
  {
   "cell_type": "code",
   "execution_count": 25,
   "id": "215630dc-61fb-40a1-b9ec-1527a216ca2a",
   "metadata": {},
   "outputs": [
    {
     "name": "stdout",
     "output_type": "stream",
     "text": [
      "Affordable electronics in stock\n",
      "Premium non-electronics out of stock\n"
     ]
    }
   ],
   "source": [
    "print(improved_classify_item(\"electronics\", 60, True)) # Affordable electronics in stock\n",
    "print(improved_classify_item(\"clothing\", 150, False)) # Premium non-electronics out of stock"
   ]
  }
 ],
 "metadata": {
  "kernelspec": {
   "display_name": "Python [conda env:base] *",
   "language": "python",
   "name": "conda-base-py"
  },
  "language_info": {
   "codemirror_mode": {
    "name": "ipython",
    "version": 3
   },
   "file_extension": ".py",
   "mimetype": "text/x-python",
   "name": "python",
   "nbconvert_exporter": "python",
   "pygments_lexer": "ipython3",
   "version": "3.13.5"
  }
 },
 "nbformat": 4,
 "nbformat_minor": 5
}
