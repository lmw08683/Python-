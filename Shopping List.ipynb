{
 "cells": [
  {
   "cell_type": "code",
   "execution_count": 4,
   "id": "45522a6a-48cf-4dac-8588-1b9281f554e4",
   "metadata": {},
   "outputs": [],
   "source": [
    "# 1. Create a shopping list with at least 5 items\n",
    "shopping_list = [\"Apples\", \"Bread\", \"Milk\", \"Eggs\", \"Cheese\"]"
   ]
  },
  {
   "cell_type": "code",
   "execution_count": 6,
   "id": "5be63463-84e3-418b-bab6-2b9aff532c93",
   "metadata": {},
   "outputs": [
    {
     "name": "stdout",
     "output_type": "stream",
     "text": [
      "Third item in my shopping list is: Milk\n"
     ]
    }
   ],
   "source": [
    "# 2. Print out the third item in the list\n",
    "print(f\"Third item in my shopping list is: {shopping_list[2]}\")\n"
   ]
  },
  {
   "cell_type": "code",
   "execution_count": 7,
   "id": "9f3d82c6-ea0c-41f3-8435-def9cf7f968d",
   "metadata": {},
   "outputs": [
    {
     "name": "stdout",
     "output_type": "stream",
     "text": [
      "Updated shopping list: ['Bananas', 'Bread', 'Milk', 'Eggs', 'Cheese']\n"
     ]
    }
   ],
   "source": [
    "# 3. Replace the first item with a different item\n",
    "shopping_list[0] = \"Bananas\"\n",
    "print(f\"Updated shopping list: {shopping_list}\")\n"
   ]
  },
  {
   "cell_type": "code",
   "execution_count": 8,
   "id": "f674cca8-d101-4bfe-a390-4fc2542c49a7",
   "metadata": {},
   "outputs": [
    {
     "name": "stdout",
     "output_type": "stream",
     "text": [
      "Shopping list after adding an item: ['Bananas', 'Bread', 'Milk', 'Eggs', 'Cheese', 'Chicken']\n"
     ]
    }
   ],
   "source": [
    "# 4. Add an item to the end of the list\n",
    "shopping_list.append(\"Chicken\")\n",
    "print(f\"Shopping list after adding an item: {shopping_list}\")"
   ]
  },
  {
   "cell_type": "code",
   "execution_count": 9,
   "id": "a9bf49c3-2d5b-4f1f-96dd-caf2a1af27b7",
   "metadata": {},
   "outputs": [],
   "source": [
    "# 5. Create a dictionary of 3 grocery items with their prices \n",
    "grocery_prices = {\n",
    "    \"Bananas\": 1.99,\n",
    "    \"Milk\": 5.99,\n",
    "    \"Chicken\": 12.99\n",
    "}"
   ]
  },
  {
   "cell_type": "code",
   "execution_count": 11,
   "id": "06c5a36c-e4f8-4ae3-85ba-3b56e66727e5",
   "metadata": {},
   "outputs": [
    {
     "name": "stdout",
     "output_type": "stream",
     "text": [
      "The price of chicken is $12.99\n"
     ]
    }
   ],
   "source": [
    "# 6. Print a message showing one item and its price \n",
    "print(f\"The price of chicken is ${grocery_prices['Chicken']}\")"
   ]
  },
  {
   "cell_type": "code",
   "execution_count": 13,
   "id": "8b92e61a-3b8f-4f0b-8d71-af97661e77b5",
   "metadata": {},
   "outputs": [
    {
     "name": "stdout",
     "output_type": "stream",
     "text": [
      "Updated grocery prices: {'Bananas': 1.99, 'Milk': 5.99, 'Chicken': 12.99, 'eggs': 15.25}\n"
     ]
    }
   ],
   "source": [
    "# 7. Add a new item to the dictionary with its price\n",
    "grocery_prices[\"eggs\"] = 15.25\n",
    "print(f\"Updated grocery prices: {grocery_prices}\")"
   ]
  },
  {
   "cell_type": "code",
   "execution_count": 18,
   "id": "7a78ca82-8db6-4709-a69c-83f1e7bcaee2",
   "metadata": {},
   "outputs": [
    {
     "name": "stdout",
     "output_type": "stream",
     "text": [
      "The total cost of all items is: $36.22\n"
     ]
    }
   ],
   "source": [
    "# 8. Calculate and print the total cost of all items\n",
    "total_cost = sum(grocery_prices.values())\n",
    "print(f\"The total cost of all items is: ${total_cost:.2f}\")"
   ]
  },
  {
   "cell_type": "code",
   "execution_count": 17,
   "id": "bd0d7ad8-6103-48cf-bc1f-bcac53083c25",
   "metadata": {},
   "outputs": [
    {
     "name": "stdout",
     "output_type": "stream",
     "text": [
      "The total cost of all items is: $36.22\n"
     ]
    }
   ],
   "source": [
    "# 8. Calculate and print the total cost of all items\n",
    "total_cost = sum(grocery_prices.values())  # Changed from .value() to .values()\n",
    "print(f\"The total cost of all items is: ${total_cost:.2f}\")"
   ]
  }
 ],
 "metadata": {
  "kernelspec": {
   "display_name": "Python [conda env:base] *",
   "language": "python",
   "name": "conda-base-py"
  },
  "language_info": {
   "codemirror_mode": {
    "name": "ipython",
    "version": 3
   },
   "file_extension": ".py",
   "mimetype": "text/x-python",
   "name": "python",
   "nbconvert_exporter": "python",
   "pygments_lexer": "ipython3",
   "version": "3.13.5"
  }
 },
 "nbformat": 4,
 "nbformat_minor": 5
}
