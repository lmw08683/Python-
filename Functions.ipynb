{
 "cells": [
  {
   "cell_type": "code",
   "execution_count": 1,
   "id": "2c1292f6-571b-42c3-8e5b-dc381bde6ff2",
   "metadata": {},
   "outputs": [],
   "source": [
    "# Task 1:  Basic Function\n",
    "def hello_world():\n",
    "    print(\"Hello world!\")"
   ]
  },
  {
   "cell_type": "code",
   "execution_count": 3,
   "id": "885e4035-3870-43ad-b97a-9d15eda6e913",
   "metadata": {},
   "outputs": [
    {
     "name": "stdout",
     "output_type": "stream",
     "text": [
      "Hello world!\n"
     ]
    }
   ],
   "source": [
    "hello_world()"
   ]
  },
  {
   "cell_type": "code",
   "execution_count": 7,
   "id": "4710e691-d663-49e3-a636-290e8ab6bf81",
   "metadata": {},
   "outputs": [],
   "source": [
    "# Task 2: Function with a Parameter\n",
    "def greet(name): \n",
    "    print(f\"Hello, {name}!\")"
   ]
  },
  {
   "cell_type": "code",
   "execution_count": 9,
   "id": "31d4aed6-11d2-404d-9018-4103a8f18c9a",
   "metadata": {},
   "outputs": [
    {
     "name": "stdout",
     "output_type": "stream",
     "text": [
      "Hello, Jonah!\n"
     ]
    }
   ],
   "source": [
    "greet(\"Jonah\")"
   ]
  },
  {
   "cell_type": "code",
   "execution_count": 10,
   "id": "b1ef4891-e787-40dc-8dda-26a1ec2c44f0",
   "metadata": {},
   "outputs": [],
   "source": [
    "# Task 3: Function with Multiple Parameters\n",
    "def calculate_area(length, width):\n",
    "    return length * width\n",
    "                   "
   ]
  },
  {
   "cell_type": "code",
   "execution_count": 37,
   "id": "7786c0b9-ee7e-44ce-a3c0-d0c3ad293067",
   "metadata": {},
   "outputs": [
    {
     "name": "stdout",
     "output_type": "stream",
     "text": [
      "30\n"
     ]
    }
   ],
   "source": [
    "print(calculate_area(10,3))"
   ]
  },
  {
   "cell_type": "code",
   "execution_count": 12,
   "id": "e484a1f5-6a20-4af1-b15f-c379b64cfd59",
   "metadata": {},
   "outputs": [],
   "source": [
    "# Task 4: Function with Default Parametr Values\n",
    "def power(base, exponent=2):\n",
    "    return base ** exponent\n",
    "    "
   ]
  },
  {
   "cell_type": "code",
   "execution_count": 38,
   "id": "5a3dd241-d71c-4303-ae59-edc8cfd55230",
   "metadata": {},
   "outputs": [
    {
     "name": "stdout",
     "output_type": "stream",
     "text": [
      "100\n"
     ]
    }
   ],
   "source": [
    "print(power(10))"
   ]
  },
  {
   "cell_type": "code",
   "execution_count": 18,
   "id": "1addab65-bce5-4830-890a-7e5da68d205d",
   "metadata": {},
   "outputs": [],
   "source": [
    "# Task 5: Function that Returns a Value\n",
    "def get_full_name(first, middle=\"\", last=\"\"):\n",
    "    return f\"{first}{middle}{last}\".strip()"
   ]
  },
  {
   "cell_type": "code",
   "execution_count": 39,
   "id": "a5af08b8-2b61-4127-9ba8-14e60c8a80bd",
   "metadata": {},
   "outputs": [
    {
     "name": "stdout",
     "output_type": "stream",
     "text": [
      "Lana Del Ray\n"
     ]
    }
   ],
   "source": [
    "print(get_full_name(\"Lana Del Ray\"))"
   ]
  },
  {
   "cell_type": "code",
   "execution_count": 26,
   "id": "60ff573b-d9ac-4989-a6bc-73834a7524a0",
   "metadata": {},
   "outputs": [],
   "source": [
    "# Task 6: Function Composition\n",
    "def celsius_to_fahrenheit(celsius): \n",
    "    return celsius * 9/5 + 32\n",
    "    "
   ]
  },
  {
   "cell_type": "code",
   "execution_count": 27,
   "id": "577497fb-d1e8-4382-a6c4-fee0bbd4ef22",
   "metadata": {},
   "outputs": [],
   "source": [
    "def fahrenheit_to_celsius(fahrenheit):\n",
    "    return (fahrenheit - 32) * 5/9"
   ]
  },
  {
   "cell_type": "code",
   "execution_count": 40,
   "id": "c49903da-18bd-4a4a-a96a-a26ed2b1440a",
   "metadata": {},
   "outputs": [
    {
     "name": "stdout",
     "output_type": "stream",
     "text": [
      "68.0\n"
     ]
    }
   ],
   "source": [
    "print(celsius_to_fahrenheit(20))"
   ]
  },
  {
   "cell_type": "code",
   "execution_count": 41,
   "id": "4cbf4e9f-9910-4fe1-96fb-aca6b85f10ba",
   "metadata": {},
   "outputs": [
    {
     "name": "stdout",
     "output_type": "stream",
     "text": [
      "32.22222222222222\n"
     ]
    }
   ],
   "source": [
    "print(fahrenheit_to_celsius(90))"
   ]
  },
  {
   "cell_type": "code",
   "execution_count": 31,
   "id": "d4c1cc31-aeb2-467d-b5cc-c52d17181780",
   "metadata": {},
   "outputs": [],
   "source": [
    "# Task 7: Combining Functions and Conditionals\n",
    "def analyze_temperature(value, unit):\n",
    "    if unit.upper() == \"F\":\n",
    "        value = fahrenheit_to_celsius(value)\n",
    "\n",
    "        if value < 0:\n",
    "            return \"freezing\"\n",
    "        elif value <= 15:\n",
    "            return \"cold\"\n",
    "        elif value <= 25:\n",
    "            return \"moderate\"\n",
    "        else: \n",
    "            return \"hot\""
   ]
  },
  {
   "cell_type": "code",
   "execution_count": 42,
   "id": "265a48b4-bc0e-4093-9ab4-6b8ff0d63d63",
   "metadata": {},
   "outputs": [
    {
     "name": "stdout",
     "output_type": "stream",
     "text": [
      "freezing\n"
     ]
    }
   ],
   "source": [
    "print(analyze_temperature(30,\"F\"))"
   ]
  },
  {
   "cell_type": "code",
   "execution_count": 43,
   "id": "b1bb1235-14b0-4fd8-8cc2-ee682538a0f0",
   "metadata": {},
   "outputs": [
    {
     "name": "stdout",
     "output_type": "stream",
     "text": [
      "hot\n"
     ]
    }
   ],
   "source": [
    "print(analyze_temperature(98,\"F\"))"
   ]
  },
  {
   "cell_type": "code",
   "execution_count": 35,
   "id": "67a243f4-d18f-4580-95a5-666ef962b15b",
   "metadata": {},
   "outputs": [],
   "source": [
    "# Task 8: Function with Variable Arguments\n",
    "def calculate_average(*numbers):\n",
    "    return sum(numbers) / len(numbers) if numbers else 0"
   ]
  },
  {
   "cell_type": "code",
   "execution_count": 44,
   "id": "90a94b7f-6b1c-414b-9738-5370565e1ae5",
   "metadata": {},
   "outputs": [
    {
     "name": "stdout",
     "output_type": "stream",
     "text": [
      "63.333333333333336\n"
     ]
    }
   ],
   "source": [
    "print(calculate_average(60,40,90))"
   ]
  },
  {
   "cell_type": "code",
   "execution_count": 45,
   "id": "3bfa24ca-3c9d-4966-92be-9700d0ae5da8",
   "metadata": {},
   "outputs": [],
   "source": [
    "# Task 9: Student Grade Function \n",
    "def calculate_final_grade(student_name, *scores):\n",
    "    if not scores:\n",
    "        return f\"{student_name} has no scores available\"\n",
    "\n",
    "    avg_score = sum(scores) / len(scores)\n",
    "\n",
    "    if avg_score >= 90:\n",
    "        grade = \"A\"\n",
    "    elif avg_score >= 80:\n",
    "        grade = \"B\"\n",
    "    elif avg_score >= 70:\n",
    "        grade = \"C\"\n",
    "    elif avg_score >= 60:\n",
    "        grade = \"D\"\n",
    "    else:\n",
    "        grade = \"F\"\n",
    "\n",
    "    return f\"{student_name}'s final grade is {avg_score:.1f} ({grade}).\""
   ]
  },
  {
   "cell_type": "code",
   "execution_count": 46,
   "id": "ad268dfb-931d-48a2-adc9-2ad0d09b9373",
   "metadata": {},
   "outputs": [
    {
     "name": "stdout",
     "output_type": "stream",
     "text": [
      "Olvia's final grade is 73.5 (C).\n"
     ]
    }
   ],
   "source": [
    "print(calculate_final_grade(\"Olvia\",89,90,40,75))"
   ]
  },
  {
   "cell_type": "code",
   "execution_count": null,
   "id": "2b8a2be9-5210-4e61-a3ec-74ec2d29d6e3",
   "metadata": {},
   "outputs": [],
   "source": []
  }
 ],
 "metadata": {
  "kernelspec": {
   "display_name": "Python [conda env:base] *",
   "language": "python",
   "name": "conda-base-py"
  },
  "language_info": {
   "codemirror_mode": {
    "name": "ipython",
    "version": 3
   },
   "file_extension": ".py",
   "mimetype": "text/x-python",
   "name": "python",
   "nbconvert_exporter": "python",
   "pygments_lexer": "ipython3",
   "version": "3.13.5"
  }
 },
 "nbformat": 4,
 "nbformat_minor": 5
}
