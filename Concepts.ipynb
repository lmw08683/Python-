{
 "cells": [
  {
   "cell_type": "markdown",
   "id": "b77ce07a-6e58-4c8f-8400-0b7a13c95e33",
   "metadata": {},
   "source": [
    "Tasks\n",
    "Task 1: Variable Declaration and Data Types\n",
    "Declare variables of different types (integer, float, string, boolean, etc.).\n",
    "Print their values and types using the type() function.\n",
    "Task 2: String Manipulation\n",
    "Create a string variable.\n",
    "Apply at least three different string methods to modify or retrieve information from the string.\n",
    "Task 3: Basic Operations\n",
    "Perform and print the results of the following operations:\n",
    "Arithmetic operations (+, -, *, /, %, **)\n",
    "Comparison operations (>, <, ==, !=, >=, <=)\n",
    "Logical operations (and, or, not)\n",
    "Task 4: Data Collections\n",
    "Create examples of the following data structures:\n",
    "List\n",
    "Dictionary\n",
    "Tuple\n",
    "Access and print specific elements from each.\n",
    "Task 5: Expression Combination\n",
    "Write a Python expression that combines multiple variables and operations into a single meaningful expression.\n",
    "Print the result."
   ]
  },
  {
   "cell_type": "code",
   "execution_count": 5,
   "id": "a8aa4212-0024-4fe7-8853-d8e746c13efa",
   "metadata": {},
   "outputs": [],
   "source": [
    "# Task 1: Variable Declaration and Data Types\n",
    "int_var = 10\n",
    "float_var = 3.14\n",
    "str_var = \"Python\"\n",
    "bool_var = True"
   ]
  },
  {
   "cell_type": "code",
   "execution_count": 6,
   "id": "9c305621-eb3e-4155-ab3e-1693a89de637",
   "metadata": {
    "panel-layout": {
     "height": 0,
     "visible": true,
     "width": 100
    }
   },
   "outputs": [
    {
     "name": "stdout",
     "output_type": "stream",
     "text": [
      "10 <class 'int'>\n",
      "3.14 <class 'float'>\n",
      "Python <class 'str'>\n",
      "True <class 'bool'>\n"
     ]
    }
   ],
   "source": [
    "print(int_var, type(int_var))\n",
    "print(float_var, type(float_var))\n",
    "print(str_var, type(str_var))\n",
    "print(bool_var, type(bool_var))"
   ]
  },
  {
   "cell_type": "code",
   "execution_count": 7,
   "id": "b1d17f87-7ef8-4369-92f4-5672c526fc48",
   "metadata": {
    "panel-layout": {
     "height": 0,
     "visible": true,
     "width": 100
    }
   },
   "outputs": [
    {
     "name": "stdout",
     "output_type": "stream",
     "text": [
      "hello, python!\n",
      "Hi, Python!\n",
      "['Hello', ' Python!']\n"
     ]
    }
   ],
   "source": [
    "# Task 2:  String Manipulation\n",
    "sample_string = \"Hello, Python!\"\n",
    "print(sample_string.lower()) # Convert to lowercase\n",
    "print(sample_string.replace(\"Hello\", \"Hi\")) # Replace part of the string\n",
    "print(sample_string.split(\",\")) # Split into a list"
   ]
  },
  {
   "cell_type": "code",
   "execution_count": 9,
   "id": "16bd97e4-e818-4038-89f0-fb7e49036a11",
   "metadata": {
    "panel-layout": {
     "height": 0,
     "visible": true,
     "width": 100
    }
   },
   "outputs": [
    {
     "name": "stdout",
     "output_type": "stream",
     "text": [
      "19 11 60 3.75 3 50625\n",
      "True False False True True False\n",
      "True False True\n"
     ]
    }
   ],
   "source": [
    "# Task 3: Basic Operations\n",
    "a, b = 15, 4\n",
    "print(a + b, a - b, a * b, a / b, a % b, a ** b) # Arithmetic\n",
    "print(a > b, a < b, a == b, a != b, a >= b, a <= b) # Comparison\n",
    "print(a > 10 and b < 5, a < 10 or b > 5, not (a == b)) # Logical "
   ]
  },
  {
   "cell_type": "code",
   "execution_count": 10,
   "id": "849b84a0-b141-4484-9e72-f46b7ef094c9",
   "metadata": {
    "panel-layout": {
     "height": 0,
     "visible": true,
     "width": 100
    }
   },
   "outputs": [
    {
     "name": "stdout",
     "output_type": "stream",
     "text": [
      "1\n",
      "Lana\n",
      "30\n"
     ]
    }
   ],
   "source": [
    "# Task 4:  Data Collections\n",
    "my_list = [5, 8, 1, 4]\n",
    "my_dict = {\"name\": \"Lana\", \"age\": 34}\n",
    "my_tuple = (20, 30, 40)\n",
    "\n",
    "print(my_list[2]) # Access element from list \n",
    "print(my_dict[\"name\"]) # Access element from dictionary\n",
    "print(my_tuple[1]) # Access element from tuple "
   ]
  },
  {
   "cell_type": "code",
   "execution_count": 11,
   "id": "ab0fe6cf-1083-4f56-9faf-3f1676dc1eb4",
   "metadata": {
    "panel-layout": {
     "height": 0,
     "visible": true,
     "width": 100
    }
   },
   "outputs": [
    {
     "name": "stdout",
     "output_type": "stream",
     "text": [
      "Final result: 16.854545454545455\n"
     ]
    }
   ],
   "source": [
    "# Task 5:  Expression Combination \n",
    "result = (int_var * float_var) / (a - b) + len(sample_string)\n",
    "print(\"Final result:\", result)"
   ]
  },
  {
   "cell_type": "code",
   "execution_count": null,
   "id": "c7929882-ca8d-4514-842b-8901214f57cd",
   "metadata": {},
   "outputs": [],
   "source": []
  }
 ],
 "metadata": {
  "kernelspec": {
   "display_name": "Python [conda env:base] *",
   "language": "python",
   "name": "conda-base-py"
  },
  "language_info": {
   "codemirror_mode": {
    "name": "ipython",
    "version": 3
   },
   "file_extension": ".py",
   "mimetype": "text/x-python",
   "name": "python",
   "nbconvert_exporter": "python",
   "pygments_lexer": "ipython3",
   "version": "3.13.5"
  },
  "panel-cell-order": [
   "9c305621-eb3e-4155-ab3e-1693a89de637",
   "b1d17f87-7ef8-4369-92f4-5672c526fc48",
   "16bd97e4-e818-4038-89f0-fb7e49036a11",
   "849b84a0-b141-4484-9e72-f46b7ef094c9",
   "ab0fe6cf-1083-4f56-9faf-3f1676dc1eb4"
  ]
 },
 "nbformat": 4,
 "nbformat_minor": 5
}
